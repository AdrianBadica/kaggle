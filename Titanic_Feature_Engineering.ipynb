{
 "cells": [
  {
   "cell_type": "code",
   "execution_count": 1,
   "metadata": {},
   "outputs": [],
   "source": [
    "#In the initial submission, some columns of the dataset were dropped, for simplicity's sake\n",
    "#This time, we will be revising the Titanic datasat in order to try to extract as much information as possible\n",
    "# in order to improve the sumission score."
   ]
  },
  {
   "cell_type": "code",
   "execution_count": 2,
   "metadata": {},
   "outputs": [],
   "source": [
    "import pandas as pd\n",
    "import zipfile"
   ]
  },
  {
   "cell_type": "code",
   "execution_count": 3,
   "metadata": {},
   "outputs": [],
   "source": [
    "zf=zipfile.ZipFile(r'C:\\Users\\Hov\\Desktop\\kaggle_titanic/titanic.zip')\n",
    "df_train = pd.read_csv(zf.open('train.csv'))"
   ]
  },
  {
   "cell_type": "code",
   "execution_count": 4,
   "metadata": {},
   "outputs": [
    {
     "data": {
      "text/html": [
       "<div>\n",
       "<style scoped>\n",
       "    .dataframe tbody tr th:only-of-type {\n",
       "        vertical-align: middle;\n",
       "    }\n",
       "\n",
       "    .dataframe tbody tr th {\n",
       "        vertical-align: top;\n",
       "    }\n",
       "\n",
       "    .dataframe thead th {\n",
       "        text-align: right;\n",
       "    }\n",
       "</style>\n",
       "<table border=\"1\" class=\"dataframe\">\n",
       "  <thead>\n",
       "    <tr style=\"text-align: right;\">\n",
       "      <th></th>\n",
       "      <th>PassengerId</th>\n",
       "      <th>Survived</th>\n",
       "      <th>Pclass</th>\n",
       "      <th>Name</th>\n",
       "      <th>Sex</th>\n",
       "      <th>Age</th>\n",
       "      <th>SibSp</th>\n",
       "      <th>Parch</th>\n",
       "      <th>Ticket</th>\n",
       "      <th>Fare</th>\n",
       "      <th>Cabin</th>\n",
       "      <th>Embarked</th>\n",
       "    </tr>\n",
       "  </thead>\n",
       "  <tbody>\n",
       "    <tr>\n",
       "      <td>0</td>\n",
       "      <td>1</td>\n",
       "      <td>0</td>\n",
       "      <td>3</td>\n",
       "      <td>Braund, Mr. Owen Harris</td>\n",
       "      <td>male</td>\n",
       "      <td>22.0</td>\n",
       "      <td>1</td>\n",
       "      <td>0</td>\n",
       "      <td>A/5 21171</td>\n",
       "      <td>7.2500</td>\n",
       "      <td>NaN</td>\n",
       "      <td>S</td>\n",
       "    </tr>\n",
       "    <tr>\n",
       "      <td>1</td>\n",
       "      <td>2</td>\n",
       "      <td>1</td>\n",
       "      <td>1</td>\n",
       "      <td>Cumings, Mrs. John Bradley (Florence Briggs Th...</td>\n",
       "      <td>female</td>\n",
       "      <td>38.0</td>\n",
       "      <td>1</td>\n",
       "      <td>0</td>\n",
       "      <td>PC 17599</td>\n",
       "      <td>71.2833</td>\n",
       "      <td>C85</td>\n",
       "      <td>C</td>\n",
       "    </tr>\n",
       "    <tr>\n",
       "      <td>2</td>\n",
       "      <td>3</td>\n",
       "      <td>1</td>\n",
       "      <td>3</td>\n",
       "      <td>Heikkinen, Miss. Laina</td>\n",
       "      <td>female</td>\n",
       "      <td>26.0</td>\n",
       "      <td>0</td>\n",
       "      <td>0</td>\n",
       "      <td>STON/O2. 3101282</td>\n",
       "      <td>7.9250</td>\n",
       "      <td>NaN</td>\n",
       "      <td>S</td>\n",
       "    </tr>\n",
       "    <tr>\n",
       "      <td>3</td>\n",
       "      <td>4</td>\n",
       "      <td>1</td>\n",
       "      <td>1</td>\n",
       "      <td>Futrelle, Mrs. Jacques Heath (Lily May Peel)</td>\n",
       "      <td>female</td>\n",
       "      <td>35.0</td>\n",
       "      <td>1</td>\n",
       "      <td>0</td>\n",
       "      <td>113803</td>\n",
       "      <td>53.1000</td>\n",
       "      <td>C123</td>\n",
       "      <td>S</td>\n",
       "    </tr>\n",
       "    <tr>\n",
       "      <td>4</td>\n",
       "      <td>5</td>\n",
       "      <td>0</td>\n",
       "      <td>3</td>\n",
       "      <td>Allen, Mr. William Henry</td>\n",
       "      <td>male</td>\n",
       "      <td>35.0</td>\n",
       "      <td>0</td>\n",
       "      <td>0</td>\n",
       "      <td>373450</td>\n",
       "      <td>8.0500</td>\n",
       "      <td>NaN</td>\n",
       "      <td>S</td>\n",
       "    </tr>\n",
       "  </tbody>\n",
       "</table>\n",
       "</div>"
      ],
      "text/plain": [
       "   PassengerId  Survived  Pclass  \\\n",
       "0            1         0       3   \n",
       "1            2         1       1   \n",
       "2            3         1       3   \n",
       "3            4         1       1   \n",
       "4            5         0       3   \n",
       "\n",
       "                                                Name     Sex   Age  SibSp  \\\n",
       "0                            Braund, Mr. Owen Harris    male  22.0      1   \n",
       "1  Cumings, Mrs. John Bradley (Florence Briggs Th...  female  38.0      1   \n",
       "2                             Heikkinen, Miss. Laina  female  26.0      0   \n",
       "3       Futrelle, Mrs. Jacques Heath (Lily May Peel)  female  35.0      1   \n",
       "4                           Allen, Mr. William Henry    male  35.0      0   \n",
       "\n",
       "   Parch            Ticket     Fare Cabin Embarked  \n",
       "0      0         A/5 21171   7.2500   NaN        S  \n",
       "1      0          PC 17599  71.2833   C85        C  \n",
       "2      0  STON/O2. 3101282   7.9250   NaN        S  \n",
       "3      0            113803  53.1000  C123        S  \n",
       "4      0            373450   8.0500   NaN        S  "
      ]
     },
     "execution_count": 4,
     "metadata": {},
     "output_type": "execute_result"
    }
   ],
   "source": [
    "df_train.head()"
   ]
  },
  {
   "cell_type": "code",
   "execution_count": 5,
   "metadata": {},
   "outputs": [],
   "source": [
    "# One of the columns that we dropped was \"Name\".\n",
    "# At a first glance, it seems that names are stored as <last name> <comma> <title> < first name>\n",
    "# Knowing that families were travelling on the Titanic, it might be useful to know how many members a family had onboard \n",
    "# (assumming that people with the same last name were related)"
   ]
  },
  {
   "cell_type": "code",
   "execution_count": 6,
   "metadata": {},
   "outputs": [],
   "source": [
    "# In order to hame the complete picture, we will be using both the train and the test set to count family members\n",
    "# for each last name, as some members of the same family might be in the test set.\n",
    "# We won't be using the test set to train the model on it."
   ]
  },
  {
   "cell_type": "code",
   "execution_count": 7,
   "metadata": {},
   "outputs": [],
   "source": [
    "# Let's read the test set\n",
    "df_test = pd.read_csv(zf.open('test.csv'))"
   ]
  },
  {
   "cell_type": "code",
   "execution_count": 8,
   "metadata": {},
   "outputs": [],
   "source": [
    "# Now for putting together the two dataframes\n",
    "frames = [df_train,df_test]\n",
    "df= pd.concat(frames, sort= False)"
   ]
  },
  {
   "cell_type": "code",
   "execution_count": 9,
   "metadata": {},
   "outputs": [],
   "source": [
    "# Extracting the last name from each cell of the column and saving it in a column named \"fam_name\"\n",
    "df[\"fam_name\"] =  df[\"Name\"].str.split(',').str[0].str.strip()"
   ]
  },
  {
   "cell_type": "code",
   "execution_count": 10,
   "metadata": {},
   "outputs": [
    {
     "data": {
      "text/plain": [
       "Sage         11\n",
       "Andersson    11\n",
       "Goodwin       8\n",
       "Asplund       8\n",
       "Davies        7\n",
       "             ..\n",
       "Turja         1\n",
       "Keefe         1\n",
       "Harmer        1\n",
       "Cohen         1\n",
       "Wilson        1\n",
       "Name: fam_name, Length: 875, dtype: int64"
      ]
     },
     "execution_count": 10,
     "metadata": {},
     "output_type": "execute_result"
    }
   ],
   "source": [
    "# Let's see the number of family members for each name\n",
    "df[\"fam_name\"].value_counts()"
   ]
  },
  {
   "cell_type": "code",
   "execution_count": 11,
   "metadata": {},
   "outputs": [],
   "source": [
    "#Let's save the number of members for each last name\n",
    "df_family_members = df[\"fam_name\"].value_counts().rename_axis('fam_name').reset_index(name=\"members\")"
   ]
  },
  {
   "cell_type": "code",
   "execution_count": 12,
   "metadata": {},
   "outputs": [],
   "source": [
    "# And now to add the number of family members for each passenger according to their name, \n",
    "# in another column of the train dataframe\n",
    "df_train[\"fam_name\"] =  df_train[\"Name\"].str.split(',').str[0].str.strip()\n",
    "df_train = pd.merge(df_train, df_family_members, on='fam_name', how='left')"
   ]
  },
  {
   "cell_type": "code",
   "execution_count": 13,
   "metadata": {},
   "outputs": [],
   "source": [
    "# Another feature that might be useful, is title\n",
    "# Let's extract this feature and see how it looks\n",
    "title = df_train[\"Name\"].str.split(',').str[1].str.strip().str.split('.').str[0].str.strip()"
   ]
  },
  {
   "cell_type": "code",
   "execution_count": 14,
   "metadata": {},
   "outputs": [
    {
     "data": {
      "text/plain": [
       "array(['Mr', 'Mrs', 'Miss', 'Master', 'Don', 'Rev', 'Dr', 'Mme', 'Ms',\n",
       "       'Major', 'Lady', 'Sir', 'Mlle', 'Col', 'Capt', 'the Countess',\n",
       "       'Jonkheer'], dtype=object)"
      ]
     },
     "execution_count": 14,
     "metadata": {},
     "output_type": "execute_result"
    }
   ],
   "source": [
    "# The values that it might take\n",
    "title.unique()"
   ]
  },
  {
   "cell_type": "code",
   "execution_count": 15,
   "metadata": {},
   "outputs": [
    {
     "data": {
      "text/plain": [
       "Mr              517\n",
       "Miss            182\n",
       "Mrs             125\n",
       "Master           40\n",
       "Dr                7\n",
       "Rev               6\n",
       "Mlle              2\n",
       "Major             2\n",
       "Col               2\n",
       "Lady              1\n",
       "Jonkheer          1\n",
       "Mme               1\n",
       "Don               1\n",
       "Sir               1\n",
       "Ms                1\n",
       "the Countess      1\n",
       "Capt              1\n",
       "Name: Name, dtype: int64"
      ]
     },
     "execution_count": 15,
     "metadata": {},
     "output_type": "execute_result"
    }
   ],
   "source": [
    "# And number of occurances in the train dataset\n",
    "title.value_counts()"
   ]
  },
  {
   "cell_type": "code",
   "execution_count": 16,
   "metadata": {},
   "outputs": [],
   "source": [
    "# For simplicity we will be using the first 4, creating a column for each of them as they are the most numerous\n",
    "df_train[\"is_mr\"]= df_train[\"Name\"].str.contains('Mr.', regex=False)\n",
    "df_train[\"is_master\"]= df_train[\"Name\"].str.contains('Master.', regex = False)\n",
    "df_train[\"is_miss\"]= df_train[\"Name\"].str.contains('Miss', regex = False)\n",
    "df_train[\"is_mrs\"]= df_train[\"Name\"].str.contains('Mrs.',regex=False)"
   ]
  },
  {
   "cell_type": "code",
   "execution_count": 17,
   "metadata": {},
   "outputs": [],
   "source": [
    "# In the first submission, we imputed the missing values of age with the mean of the entire dataset\n",
    "# Since titles might be indicative of age, let's use them for a more precise imputation\n",
    "mr_age = df_train.query('is_mr == True').Age.mean()\n",
    "master_age = df_train.query('is_master == True').Age.mean()\n",
    "miss_age = df_train.query('is_miss == True').Age.mean()\n",
    "mrs_age = df_train.query('is_mrs == True').Age.mean()"
   ]
  },
  {
   "cell_type": "code",
   "execution_count": 18,
   "metadata": {},
   "outputs": [],
   "source": [
    "# Replacing the missing value of age with the appropiate mean, according to passanger title\n",
    "df_train.loc[(df_train[\"Age\"].isna() == True) & (df_train.is_mr == True), \"Age\"]=mr_age\n",
    "df_train.loc[(df_train[\"Age\"].isna() == True) & (df_train.is_master == True), \"Age\"]=master_age\n",
    "df_train.loc[(df_train[\"Age\"].isna() == True) & (df_train.is_miss == True), \"Age\"]= miss_age\n",
    "df_train.loc[(df_train[\"Age\"].isna() == True) & (df_train.is_mrs == True), \"Age\"]=mrs_age\n",
    "df_train.loc[(df_train[\"Age\"].isna() == True),\"Age\"] = mr_age"
   ]
  },
  {
   "cell_type": "code",
   "execution_count": 19,
   "metadata": {},
   "outputs": [
    {
     "data": {
      "text/plain": [
       "0             A/5 21171\n",
       "1              PC 17599\n",
       "2      STON/O2. 3101282\n",
       "3                113803\n",
       "4                373450\n",
       "             ...       \n",
       "886              211536\n",
       "887              112053\n",
       "888          W./C. 6607\n",
       "889              111369\n",
       "890              370376\n",
       "Name: Ticket, Length: 891, dtype: object"
      ]
     },
     "execution_count": 19,
     "metadata": {},
     "output_type": "execute_result"
    }
   ],
   "source": [
    "# Another column that might store some useful information is \"Ticket\"\n",
    "df_train[\"Ticket\"]"
   ]
  },
  {
   "cell_type": "code",
   "execution_count": 20,
   "metadata": {},
   "outputs": [],
   "source": [
    "# Some seem to be completely numeric, while others have also some characters in their name\n",
    "# Let's first identify the ones that are made up of just numbers and store this information in another column\n",
    "df_train[\"ticket_is_num\"] = df_train[\"Ticket\"].str.isdigit()"
   ]
  },
  {
   "cell_type": "code",
   "execution_count": 21,
   "metadata": {},
   "outputs": [
    {
     "data": {
      "text/plain": [
       "PC            60\n",
       "C.A.          27\n",
       "STON/O        12\n",
       "A/5           10\n",
       "W./C.          9\n",
       "CA.            8\n",
       "SOTON/O.Q.     8\n",
       "SOTON/OQ       7\n",
       "A/5.           7\n",
       "STON/O2.       6\n",
       "CA             6\n",
       "C              5\n",
       "S.O.C.         5\n",
       "SC/PARIS       5\n",
       "F.C.C.         5\n",
       "SC/Paris       4\n",
       "LINE           4\n",
       "A/4            3\n",
       "S.O./P.P.      3\n",
       "SC/AH          3\n",
       "PP             3\n",
       "A/4.           3\n",
       "A./5.          2\n",
       "A.5.           2\n",
       "S.C./PARIS     2\n",
       "P/PP           2\n",
       "SOTON/O2       2\n",
       "WE/P           2\n",
       "W.E.P.         1\n",
       "F.C.           1\n",
       "Fa             1\n",
       "W/C            1\n",
       "SCO/W          1\n",
       "S.W./PP        1\n",
       "C.A./SOTON     1\n",
       "SC             1\n",
       "S.P.           1\n",
       "A4.            1\n",
       "A/S            1\n",
       "S.C./A.4.      1\n",
       "S.O.P.         1\n",
       "SO/C           1\n",
       "SW/PP          1\n",
       "Name: Ticket, dtype: int64"
      ]
     },
     "execution_count": 21,
     "metadata": {},
     "output_type": "execute_result"
    }
   ],
   "source": [
    "# Let's take a look at the other tickets and their non-numeric part; we will be splitting by space \n",
    "# and count each individual value\n",
    "df_train.query('ticket_is_num==False').Ticket.str.split(' ').str[0].str.strip().value_counts()"
   ]
  },
  {
   "cell_type": "code",
   "execution_count": 22,
   "metadata": {},
   "outputs": [],
   "source": [
    "# We will add another column to the train dataframe and initially fill it with the value \"other\"\n",
    "df_train[\"ticket_segment\"] = \"other\""
   ]
  },
  {
   "cell_type": "code",
   "execution_count": 23,
   "metadata": {},
   "outputs": [],
   "source": [
    "#Create a column to store the ticket type\n",
    "df_train[\"ticket_type\"] = df_train.query('ticket_is_num==False').Ticket.str.split(' ').str[0].str.strip()"
   ]
  },
  {
   "cell_type": "code",
   "execution_count": 24,
   "metadata": {},
   "outputs": [],
   "source": [
    "# Now, according to the value of the ticket we will fill-in the \"ticket_segment\" \n",
    "df_train.loc[df_train[\"ticket_is_num\"] == True, \"ticket_segment\"] = \"num\"\n",
    "df_train.loc[df_train[\"ticket_type\"] == \"PC\", \"ticket_segment\"] = \"PC\"\n",
    "df_train.loc[df_train[\"ticket_type\"].isin([\"C.A.\",\"CA.\",\"CA\"]), \"ticket_segment\"] = \"CA\"\n",
    "df_train.loc[df_train[\"ticket_type\"].isin([\"A/5\",\"A/5.\",\"A./5.\",\"A.5.\",\"A/4\",\"A/4.\"]), \"ticket_segment\"] = \"A\"\n",
    "df_train.loc[df_train[\"ticket_type\"].isin([\"STON/O\",\"SOTON/O.Q.\",\"SOTON/OQ\",\"STON/O2.\"]), \"ticket_segment\"] = \"STON\"\n",
    "df_train.loc[df_train[\"ticket_type\"].isin([\"SC/PARIS\",\"SC/Paris\",\"SC/AH\",\"S.C./PARIS\"]), \"ticket_segment\"] = \"SC\""
   ]
  },
  {
   "cell_type": "code",
   "execution_count": 25,
   "metadata": {},
   "outputs": [
    {
     "data": {
      "text/html": [
       "<div>\n",
       "<style scoped>\n",
       "    .dataframe tbody tr th:only-of-type {\n",
       "        vertical-align: middle;\n",
       "    }\n",
       "\n",
       "    .dataframe tbody tr th {\n",
       "        vertical-align: top;\n",
       "    }\n",
       "\n",
       "    .dataframe thead th {\n",
       "        text-align: right;\n",
       "    }\n",
       "</style>\n",
       "<table border=\"1\" class=\"dataframe\">\n",
       "  <thead>\n",
       "    <tr style=\"text-align: right;\">\n",
       "      <th></th>\n",
       "      <th>PassengerId</th>\n",
       "      <th>Survived</th>\n",
       "      <th>Pclass</th>\n",
       "      <th>Name</th>\n",
       "      <th>Sex</th>\n",
       "      <th>Age</th>\n",
       "      <th>SibSp</th>\n",
       "      <th>Parch</th>\n",
       "      <th>Ticket</th>\n",
       "      <th>Fare</th>\n",
       "      <th>...</th>\n",
       "      <th>Embarked</th>\n",
       "      <th>fam_name</th>\n",
       "      <th>members</th>\n",
       "      <th>is_mr</th>\n",
       "      <th>is_master</th>\n",
       "      <th>is_miss</th>\n",
       "      <th>is_mrs</th>\n",
       "      <th>ticket_is_num</th>\n",
       "      <th>ticket_segment</th>\n",
       "      <th>ticket_type</th>\n",
       "    </tr>\n",
       "  </thead>\n",
       "  <tbody>\n",
       "    <tr>\n",
       "      <td>0</td>\n",
       "      <td>1</td>\n",
       "      <td>0</td>\n",
       "      <td>3</td>\n",
       "      <td>Braund, Mr. Owen Harris</td>\n",
       "      <td>male</td>\n",
       "      <td>22.0</td>\n",
       "      <td>1</td>\n",
       "      <td>0</td>\n",
       "      <td>A/5 21171</td>\n",
       "      <td>7.2500</td>\n",
       "      <td>...</td>\n",
       "      <td>S</td>\n",
       "      <td>Braund</td>\n",
       "      <td>2</td>\n",
       "      <td>True</td>\n",
       "      <td>False</td>\n",
       "      <td>False</td>\n",
       "      <td>False</td>\n",
       "      <td>False</td>\n",
       "      <td>A</td>\n",
       "      <td>A/5</td>\n",
       "    </tr>\n",
       "    <tr>\n",
       "      <td>1</td>\n",
       "      <td>2</td>\n",
       "      <td>1</td>\n",
       "      <td>1</td>\n",
       "      <td>Cumings, Mrs. John Bradley (Florence Briggs Th...</td>\n",
       "      <td>female</td>\n",
       "      <td>38.0</td>\n",
       "      <td>1</td>\n",
       "      <td>0</td>\n",
       "      <td>PC 17599</td>\n",
       "      <td>71.2833</td>\n",
       "      <td>...</td>\n",
       "      <td>C</td>\n",
       "      <td>Cumings</td>\n",
       "      <td>2</td>\n",
       "      <td>False</td>\n",
       "      <td>False</td>\n",
       "      <td>False</td>\n",
       "      <td>True</td>\n",
       "      <td>False</td>\n",
       "      <td>PC</td>\n",
       "      <td>PC</td>\n",
       "    </tr>\n",
       "    <tr>\n",
       "      <td>2</td>\n",
       "      <td>3</td>\n",
       "      <td>1</td>\n",
       "      <td>3</td>\n",
       "      <td>Heikkinen, Miss. Laina</td>\n",
       "      <td>female</td>\n",
       "      <td>26.0</td>\n",
       "      <td>0</td>\n",
       "      <td>0</td>\n",
       "      <td>STON/O2. 3101282</td>\n",
       "      <td>7.9250</td>\n",
       "      <td>...</td>\n",
       "      <td>S</td>\n",
       "      <td>Heikkinen</td>\n",
       "      <td>1</td>\n",
       "      <td>False</td>\n",
       "      <td>False</td>\n",
       "      <td>True</td>\n",
       "      <td>False</td>\n",
       "      <td>False</td>\n",
       "      <td>STON</td>\n",
       "      <td>STON/O2.</td>\n",
       "    </tr>\n",
       "    <tr>\n",
       "      <td>3</td>\n",
       "      <td>4</td>\n",
       "      <td>1</td>\n",
       "      <td>1</td>\n",
       "      <td>Futrelle, Mrs. Jacques Heath (Lily May Peel)</td>\n",
       "      <td>female</td>\n",
       "      <td>35.0</td>\n",
       "      <td>1</td>\n",
       "      <td>0</td>\n",
       "      <td>113803</td>\n",
       "      <td>53.1000</td>\n",
       "      <td>...</td>\n",
       "      <td>S</td>\n",
       "      <td>Futrelle</td>\n",
       "      <td>2</td>\n",
       "      <td>False</td>\n",
       "      <td>False</td>\n",
       "      <td>False</td>\n",
       "      <td>True</td>\n",
       "      <td>True</td>\n",
       "      <td>num</td>\n",
       "      <td>NaN</td>\n",
       "    </tr>\n",
       "    <tr>\n",
       "      <td>4</td>\n",
       "      <td>5</td>\n",
       "      <td>0</td>\n",
       "      <td>3</td>\n",
       "      <td>Allen, Mr. William Henry</td>\n",
       "      <td>male</td>\n",
       "      <td>35.0</td>\n",
       "      <td>0</td>\n",
       "      <td>0</td>\n",
       "      <td>373450</td>\n",
       "      <td>8.0500</td>\n",
       "      <td>...</td>\n",
       "      <td>S</td>\n",
       "      <td>Allen</td>\n",
       "      <td>2</td>\n",
       "      <td>True</td>\n",
       "      <td>False</td>\n",
       "      <td>False</td>\n",
       "      <td>False</td>\n",
       "      <td>True</td>\n",
       "      <td>num</td>\n",
       "      <td>NaN</td>\n",
       "    </tr>\n",
       "  </tbody>\n",
       "</table>\n",
       "<p>5 rows × 21 columns</p>\n",
       "</div>"
      ],
      "text/plain": [
       "   PassengerId  Survived  Pclass  \\\n",
       "0            1         0       3   \n",
       "1            2         1       1   \n",
       "2            3         1       3   \n",
       "3            4         1       1   \n",
       "4            5         0       3   \n",
       "\n",
       "                                                Name     Sex   Age  SibSp  \\\n",
       "0                            Braund, Mr. Owen Harris    male  22.0      1   \n",
       "1  Cumings, Mrs. John Bradley (Florence Briggs Th...  female  38.0      1   \n",
       "2                             Heikkinen, Miss. Laina  female  26.0      0   \n",
       "3       Futrelle, Mrs. Jacques Heath (Lily May Peel)  female  35.0      1   \n",
       "4                           Allen, Mr. William Henry    male  35.0      0   \n",
       "\n",
       "   Parch            Ticket     Fare  ... Embarked   fam_name members  is_mr  \\\n",
       "0      0         A/5 21171   7.2500  ...        S     Braund       2   True   \n",
       "1      0          PC 17599  71.2833  ...        C    Cumings       2  False   \n",
       "2      0  STON/O2. 3101282   7.9250  ...        S  Heikkinen       1  False   \n",
       "3      0            113803  53.1000  ...        S   Futrelle       2  False   \n",
       "4      0            373450   8.0500  ...        S      Allen       2   True   \n",
       "\n",
       "   is_master  is_miss  is_mrs  ticket_is_num  ticket_segment ticket_type  \n",
       "0      False    False   False          False               A         A/5  \n",
       "1      False    False    True          False              PC          PC  \n",
       "2      False     True   False          False            STON    STON/O2.  \n",
       "3      False    False    True           True             num         NaN  \n",
       "4      False    False   False           True             num         NaN  \n",
       "\n",
       "[5 rows x 21 columns]"
      ]
     },
     "execution_count": 25,
     "metadata": {},
     "output_type": "execute_result"
    }
   ],
   "source": [
    "# Let's take a look at the dataframe\n",
    "df_train.head()"
   ]
  },
  {
   "cell_type": "code",
   "execution_count": 26,
   "metadata": {},
   "outputs": [],
   "source": [
    "# Now to keep only columns and rows we will be using for modeling\n",
    "df_train.drop(columns=['PassengerId', 'Name','Ticket','Cabin','fam_name','ticket_is_num','ticket_type'],inplace=True)\n",
    "df_train.dropna(subset=['Embarked'], inplace=True)"
   ]
  },
  {
   "cell_type": "code",
   "execution_count": 27,
   "metadata": {},
   "outputs": [
    {
     "data": {
      "text/plain": [
       "<matplotlib.axes._subplots.AxesSubplot at 0x27f0d3f0b08>"
      ]
     },
     "execution_count": 27,
     "metadata": {},
     "output_type": "execute_result"
    },
    {
     "data": {
      "image/png": "[encoded data removed]",
      "text/plain": [
       "<Figure size 432x288 with 1 Axes>"
      ]
     },
     "metadata": {
      "needs_background": "light"
     },
     "output_type": "display_data"
    }
   ],
   "source": [
    "# Let's check for any missing values\n",
    "import seaborn as sns\n",
    "import matplotlib.pyplot as plt\n",
    "%matplotlib inline\n",
    "sns.heatmap(df_train.isnull(),cbar=False)"
   ]
  },
  {
   "cell_type": "code",
   "execution_count": 28,
   "metadata": {},
   "outputs": [],
   "source": [
    "# Imports for creating a datapipe for transforming the variables\n",
    "from sklearn.compose import make_column_transformer\n",
    "from sklearn.preprocessing import StandardScaler\n",
    "from sklearn.preprocessing import OneHotEncoder"
   ]
  },
  {
   "cell_type": "code",
   "execution_count": 29,
   "metadata": {},
   "outputs": [],
   "source": [
    "column_trans = make_column_transformer((OneHotEncoder(),['Sex','Embarked','ticket_segment']),\n",
    "                                       (StandardScaler(),['Age','Fare'])\n",
    "                                       ,remainder='passthrough')"
   ]
  },
  {
   "cell_type": "code",
   "execution_count": 30,
   "metadata": {},
   "outputs": [],
   "source": [
    "# Let's separate the target variable from the independent variables\n",
    "X = df_train.drop(['Survived'], axis = 1)\n",
    "y_train = df_train['Survived']"
   ]
  },
  {
   "cell_type": "code",
   "execution_count": 31,
   "metadata": {},
   "outputs": [],
   "source": [
    "# Apply the transformations to the independent variables\n",
    "X_train =  column_trans.fit_transform(X)"
   ]
  },
  {
   "cell_type": "code",
   "execution_count": 32,
   "metadata": {},
   "outputs": [],
   "source": [
    "#Importing the  logstic regression, decision tree and boosting models\n",
    "from sklearn.linear_model import LogisticRegression\n",
    "import xgboost as xgb\n",
    "from sklearn.tree import DecisionTreeClassifier as dtc\n",
    "from sklearn.ensemble import RandomForestRegressor\n",
    "#Import cross validation metric for testing the accuracy of the models\n",
    "from sklearn.model_selection import cross_val_score"
   ]
  },
  {
   "cell_type": "code",
   "execution_count": 33,
   "metadata": {},
   "outputs": [],
   "source": [
    "#creat models\n",
    "logreg = LogisticRegression(solver='lbfgs')\n",
    "xgbmod=xgb.XGBClassifier(random_state=5,learning_rate=0.01)\n",
    "treemod = dtc(max_depth=10)"
   ]
  },
  {
   "cell_type": "code",
   "execution_count": 34,
   "metadata": {},
   "outputs": [
    {
     "name": "stdout",
     "output_type": "stream",
     "text": [
      "0.831314670221545 \n",
      " 0.8312956262299245 \n",
      " 0.7975242810893164\n"
     ]
    }
   ],
   "source": [
    "#evaluate models\n",
    "print(\n",
    "cross_val_score(logreg,X_train,y_train,cv=5,scoring='accuracy').mean(),\n",
    "    '\\n',\n",
    "cross_val_score(xgbmod,X_train,y_train,cv=5,scoring='accuracy').mean(),\n",
    "    '\\n',\n",
    "cross_val_score(treemod,X_train,y_train,cv=5,scoring='accuracy').mean()\n",
    "\n",
    ")"
   ]
  },
  {
   "cell_type": "code",
   "execution_count": 35,
   "metadata": {},
   "outputs": [],
   "source": [
    "# Apply the same transformations to it "
   ]
  },
  {
   "cell_type": "code",
   "execution_count": 36,
   "metadata": {},
   "outputs": [],
   "source": [
    "df_test[\"fam_name\"] =  df_test[\"Name\"].str.split(',').str[0].str.strip()"
   ]
  },
  {
   "cell_type": "code",
   "execution_count": 37,
   "metadata": {},
   "outputs": [],
   "source": [
    "df_test = pd.merge(df_test, df_family_members, on='fam_name', how='left')"
   ]
  },
  {
   "cell_type": "code",
   "execution_count": 38,
   "metadata": {},
   "outputs": [],
   "source": [
    "df_test[\"is_mr\"]= df_test[\"Name\"].str.contains('Mr.', regex=False)\n",
    "df_test[\"is_master\"]= df_test[\"Name\"].str.contains('Master.', regex = False)\n",
    "df_test[\"is_miss\"]= df_test[\"Name\"].str.contains('Miss', regex = False)\n",
    "df_test[\"is_mrs\"]= df_test[\"Name\"].str.contains('Mrs.',regex=False)"
   ]
  },
  {
   "cell_type": "code",
   "execution_count": 39,
   "metadata": {},
   "outputs": [],
   "source": [
    "mr_age = df_test.query('is_mr == True').Age.mean()\n",
    "master_age = df_test.query('is_master == True').Age.mean()\n",
    "miss_age = df_test.query('is_miss == True').Age.mean()\n",
    "mrs_age = df_test.query('is_mrs == True').Age.mean()"
   ]
  },
  {
   "cell_type": "code",
   "execution_count": 40,
   "metadata": {},
   "outputs": [],
   "source": [
    "df_test.loc[(df_test[\"Age\"].isna() == True) & (df_test.is_mr == True), \"Age\"]=mr_age\n",
    "df_test.loc[(df_test[\"Age\"].isna() == True) & (df_test.is_master == True), \"Age\"]=master_age\n",
    "df_test.loc[(df_test[\"Age\"].isna() == True) & (df_test.is_miss == True), \"Age\"]= miss_age\n",
    "df_test.loc[(df_test[\"Age\"].isna() == True) & (df_test.is_mrs == True), \"Age\"]=mrs_age\n",
    "df_test.loc[(df_test[\"Age\"].isna() == True),\"Age\"] = mr_age"
   ]
  },
  {
   "cell_type": "code",
   "execution_count": 41,
   "metadata": {},
   "outputs": [],
   "source": [
    "df_test[\"ticket_is_num\"] = df_test[\"Ticket\"].str.isdigit()"
   ]
  },
  {
   "cell_type": "code",
   "execution_count": 42,
   "metadata": {},
   "outputs": [],
   "source": [
    "df_test[\"ticket_type\"] = df_test.query('ticket_is_num==False').Ticket.str.split(' ').str[0].str.strip()"
   ]
  },
  {
   "cell_type": "code",
   "execution_count": 43,
   "metadata": {},
   "outputs": [],
   "source": [
    "df_test[\"ticket_segment\"] = \"other\""
   ]
  },
  {
   "cell_type": "code",
   "execution_count": 44,
   "metadata": {},
   "outputs": [],
   "source": [
    "df_test.loc[df_test[\"ticket_is_num\"] == True, \"ticket_segment\"] = \"num\"\n",
    "df_test.loc[df_test[\"ticket_type\"] == \"PC\", \"ticket_segment\"] = \"PC\"\n",
    "df_test.loc[df_test[\"ticket_type\"].isin([\"C.A.\",\"CA.\",\"CA\"]), \"ticket_segment\"] = \"CA\"\n",
    "df_test.loc[df_test[\"ticket_type\"].isin([\"A/5\",\"A/5.\",\"A./5.\",\"A.5.\",\"A/4\",\"A/4.\"]), \"ticket_segment\"] = \"A\"\n",
    "df_test.loc[df_test[\"ticket_type\"].isin([\"STON/O\",\"SOTON/O.Q.\",\"SOTON/OQ\",\"STON/O2.\"]), \"ticket_segment\"] = \"STON\"\n",
    "df_test.loc[df_test[\"ticket_type\"].isin([\"SC/PARIS\",\"SC/Paris\",\"SC/AH\",\"S.C./PARIS\"]), \"ticket_segment\"] = \"SC\""
   ]
  },
  {
   "cell_type": "code",
   "execution_count": 45,
   "metadata": {},
   "outputs": [],
   "source": [
    "df_test.drop(columns=['PassengerId', 'Name','Ticket','Cabin','fam_name','ticket_is_num','ticket_type'],inplace=True)"
   ]
  },
  {
   "cell_type": "code",
   "execution_count": 46,
   "metadata": {},
   "outputs": [],
   "source": [
    "# Imputing the missing value of \"Fare\" with the mean\n",
    "df_test.loc[(df_test[\"Fare\"].isna() == True),\"Fare\"] = df_test[\"Fare\"].mean()"
   ]
  },
  {
   "cell_type": "code",
   "execution_count": 47,
   "metadata": {},
   "outputs": [
    {
     "data": {
      "text/plain": [
       "<matplotlib.axes._subplots.AxesSubplot at 0x27f14f71748>"
      ]
     },
     "execution_count": 47,
     "metadata": {},
     "output_type": "execute_result"
    },
    {
     "data": {
      "image/png": "[encoded data removed]",
      "text/plain": [
       "<Figure size 432x288 with 1 Axes>"
      ]
     },
     "metadata": {
      "needs_background": "light"
     },
     "output_type": "display_data"
    }
   ],
   "source": [
    "#One last look to check for missing values\n",
    "sns.heatmap(df_test.isnull(),cbar=False)"
   ]
  },
  {
   "cell_type": "code",
   "execution_count": 48,
   "metadata": {},
   "outputs": [],
   "source": [
    "# Apply the transformations\n",
    "X_test = column_trans.fit_transform(df_test)"
   ]
  },
  {
   "cell_type": "code",
   "execution_count": 49,
   "metadata": {},
   "outputs": [],
   "source": [
    "#train the logistic model, apply it to the new cases and export predictions in a csv file for submission\n",
    "logmod = logreg.fit(X_train,y_train)\n",
    "log_pred = logmod.predict(X_test)\n",
    "pd.DataFrame(log_pred).to_csv(r\"C:\\Users\\Hov\\Desktop\\kaggle_titanic\\log_pred_fe.csv\")"
   ]
  },
  {
   "cell_type": "code",
   "execution_count": 50,
   "metadata": {},
   "outputs": [],
   "source": [
    "#same for the boosting model\n",
    "xgbmod.fit(X_train, y_train)\n",
    "xgb_pred = xgbmod.predict(X_test)\n",
    "pd.DataFrame(xgb_pred).to_csv(r\"C:\\Users\\Hov\\Desktop\\kaggle_titanic\\xgb_pred_fe.csv\")"
   ]
  },
  {
   "cell_type": "code",
   "execution_count": 51,
   "metadata": {},
   "outputs": [],
   "source": [
    "#and the decision tree model\n",
    "tree = treemod.fit(X_train,y_train)\n",
    "tree_pred = tree.predict(X_test)\n",
    "pd.DataFrame(tree_pred).to_csv(r\"C:\\Users\\Hov\\Desktop\\kaggle_titanic\\tree_pred_fe.csv\")"
   ]
  },
  {
   "cell_type": "code",
   "execution_count": 52,
   "metadata": {},
   "outputs": [],
   "source": [
    "# The logistic model registered the highest score of 0.78947"
   ]
  }
 ],
 "metadata": {
  "kernelspec": {
   "display_name": "Python 3",
   "language": "python",
   "name": "python3"
  },
  "language_info": {
   "codemirror_mode": {
    "name": "ipython",
    "version": 3
   },
   "file_extension": ".py",
   "mimetype": "text/x-python",
   "name": "python",
   "nbconvert_exporter": "python",
   "pygments_lexer": "ipython3",
   "version": "3.7.4"
  }
 },
 "nbformat": 4,
 "nbformat_minor": 2
}
