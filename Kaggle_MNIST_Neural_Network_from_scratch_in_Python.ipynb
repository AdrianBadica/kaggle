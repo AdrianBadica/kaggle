{
 "cells": [
  {
   "cell_type": "code",
   "execution_count": null,
   "metadata": {},
   "outputs": [],
   "source": [
    "# Build a simple back propagation neural network from scratch in Python for digit recognition "
   ]
  },
  {
   "cell_type": "code",
   "execution_count": null,
   "metadata": {},
   "outputs": [],
   "source": [
    "\"\"\"\n",
    "Competition Description\n",
    "\n",
    "MNIST (\"Modified National Institute of Standards and Technology\") \n",
    "is the de facto “hello world” dataset of computer vision. \n",
    "Since its release in 1999, this classic dataset of handwritten \n",
    "images has served as the basis for benchmarking classification algorithms. \n",
    "As new machine learning techniques emerge, MNIST remains a reliable resource for researchers and learners alike.\n",
    "\"\"\""
   ]
  },
  {
   "cell_type": "code",
   "execution_count": null,
   "metadata": {},
   "outputs": [],
   "source": [
    "# We will be using the approach from Andrew Ng's ML course on Coursera for building the network"
   ]
  },
  {
   "cell_type": "code",
   "execution_count": 1,
   "metadata": {},
   "outputs": [],
   "source": [
    "# intial imports\n",
    "import pandas as pd\n",
    "import numpy as np\n",
    "from matplotlib import pyplot as plt\n",
    "%matplotlib inline"
   ]
  },
  {
   "cell_type": "code",
   "execution_count": 2,
   "metadata": {},
   "outputs": [],
   "source": [
    "#read the training data and store it into a dataframe\n",
    "df = pd.read_csv(r'C:\\Users\\Legion\\Desktop\\kaggle_mnist\\train.csv')"
   ]
  },
  {
   "cell_type": "code",
   "execution_count": 3,
   "metadata": {},
   "outputs": [
    {
     "data": {
      "image/png": "[encoded data removed]",
      "text/plain": [
       "<Figure size 576x576 with 25 Axes>"
      ]
     },
     "metadata": {
      "needs_background": "light"
     },
     "output_type": "display_data"
    }
   ],
   "source": [
    "#the dataset consists of 28x28 pixels images of hand written digits\n",
    "#let's take a look at a  few of them by reconstructing the image from the values stored for each pixel\n",
    "img1 = df.iloc[:28,1:].values\n",
    "fig, ax = plt.subplots(nrows=5,ncols=5,sharey = True, sharex = True)\n",
    "fig.set_figwidth(8)\n",
    "fig.set_figheight(8)\n",
    "for i in range(5):\n",
    "  for j in range(5):\n",
    "    img = img1[i+j].reshape(28,28)\n",
    "    ax[i,j].imshow(img, cmap='gray')"
   ]
  },
  {
   "cell_type": "code",
   "execution_count": 4,
   "metadata": {},
   "outputs": [],
   "source": [
    "# splitting the features from the labels\n",
    "X, y = df.iloc[:,1:], df.iloc[:,0]"
   ]
  },
  {
   "cell_type": "code",
   "execution_count": 5,
   "metadata": {},
   "outputs": [],
   "source": [
    "#make y a column vector\n",
    "y=np.c_[y]"
   ]
  },
  {
   "cell_type": "code",
   "execution_count": 6,
   "metadata": {},
   "outputs": [],
   "source": [
    "# normalization of the train data ( RGB values go from 0 to 255)\n",
    "X = X  / 255"
   ]
  },
  {
   "cell_type": "code",
   "execution_count": 7,
   "metadata": {},
   "outputs": [
    {
     "name": "stdout",
     "output_type": "stream",
     "text": [
      "(42000, 784)\n",
      "(42000, 1)\n"
     ]
    }
   ],
   "source": [
    "#check the dimensions\n",
    "print(X.shape)\n",
    "print(y.shape)"
   ]
  },
  {
   "cell_type": "code",
   "execution_count": 8,
   "metadata": {},
   "outputs": [],
   "source": [
    "#we are going to build a neural network consisting of 3 layers : input, hidden and output layer\n",
    "#the input layer is going to be of size 784 neurons(24 * 24)\n",
    "#the output layer is going to be of size 10 neurons (10 digits from 0 to 9)\n",
    "#for the number of neurons for the hidden layer we are going to use the mean of the input and out put layer (~ 400 )\n",
    "input_layer_size = 784\n",
    "hidden_layer_size = 400\n",
    "num_labels = 10"
   ]
  },
  {
   "cell_type": "code",
   "execution_count": 9,
   "metadata": {},
   "outputs": [],
   "source": [
    "#the activation function we are going to use is the sigmoid\n",
    "#let's create it now\n",
    "def sigmoid(z):\n",
    "    return(1 / (1 + np.exp(-z)))"
   ]
  },
  {
   "cell_type": "code",
   "execution_count": 10,
   "metadata": {},
   "outputs": [],
   "source": [
    "#since we are going to use backpropagation to train the neural network we are going to first\n",
    "#initialize the weights such that we break symmetry\n",
    "#let's set the seed \n",
    "np.random.seed(0)"
   ]
  },
  {
   "cell_type": "code",
   "execution_count": 11,
   "metadata": {},
   "outputs": [],
   "source": [
    "#create a function which assigns small random values for the neurons weights\n",
    "def randInitializeWeights(L_in, L_out):\n",
    "  epsilon_init = 0.5\n",
    "  Theta = np.random.rand(L_out, L_in +1)*2*epsilon_init - epsilon_init\n",
    "  return Theta"
   ]
  },
  {
   "cell_type": "code",
   "execution_count": 12,
   "metadata": {},
   "outputs": [],
   "source": [
    "# create a function to compute the gradient of the sigmoid function\n",
    "def sigmoidGradient(z):\n",
    "    return(sigmoid(z)*(1-sigmoid(z)))"
   ]
  },
  {
   "cell_type": "code",
   "execution_count": 13,
   "metadata": {},
   "outputs": [],
   "source": [
    "# below we will create a function to calculate both the gradient and the cost function for the neural network\n",
    "\n",
    "def nnCostFunction(nn_params,input_layer_size, hidden_layer_size, num_labels,X, y,Lambda):\n",
    "\n",
    "    # Reshape nn_params back into the parameters Theta1 and Theta2\n",
    "    Theta1 = nn_params[:((input_layer_size+1) * hidden_layer_size)].reshape(hidden_layer_size,input_layer_size+1)\n",
    "    Theta2 = nn_params[((input_layer_size +1)* hidden_layer_size ):].reshape(num_labels,hidden_layer_size+1)\n",
    "    \n",
    "    # m - number of training examples\n",
    "    m = X.shape[0]\n",
    "    J=0\n",
    "    # add biases to X\n",
    "    X = np.hstack((np.ones((m,1)),X))\n",
    "    y10 = np.zeros((m,num_labels))\n",
    "    \n",
    "    # forward propagation\n",
    "    a1 = sigmoid(X @ Theta1.T)\n",
    "    a1 = np.hstack((np.ones((m,1)), a1)) # hidden layer\n",
    "    a2 = sigmoid(a1 @ Theta2.T) # output layer\n",
    "    \n",
    "    for i in range(1,num_labels+1):\n",
    "        y10[:,i-1][:,np.newaxis] = np.where(y==i,1,0)\n",
    "    for j in range(num_labels):\n",
    "        J = J + sum(-y10[:,j] * np.log(a2[:,j]) - (1-y10[:,j])*np.log(1-a2[:,j]))\n",
    "    \n",
    "    cost = 1/m* J\n",
    "    reg_J = cost + Lambda/(2*m) * (np.sum(Theta1[:,1:]**2) + np.sum(Theta2[:,1:]**2))\n",
    "    \n",
    "    # Implement the backpropagation algorithm to compute the gradients\n",
    "    \n",
    "    grad1 = np.zeros((Theta1.shape))\n",
    "    grad2 = np.zeros((Theta2.shape))\n",
    "    \n",
    "    for i in range(m):\n",
    "        xi= X[i,:] \n",
    "        a1i = a1[i,:] \n",
    "        a2i =a2[i,:] \n",
    "        d2 = a2i - y10[i,:]\n",
    "        d1 = Theta2.T @ d2.T * sigmoidGradient(np.hstack((1,xi @ Theta1.T)))\n",
    "        grad1= grad1 + d1[1:][:,np.newaxis] @ xi[:,np.newaxis].T\n",
    "        grad2 = grad2 + d2.T[:,np.newaxis] @ a1i[:,np.newaxis].T\n",
    "        \n",
    "    grad1 = 1/m * grad1\n",
    "    grad2 = 1/m*grad2\n",
    "    \n",
    "    grad1_reg = grad1 + (Lambda/m) * np.hstack((np.zeros((Theta1.shape[0],1)),Theta1[:,1:]))\n",
    "    grad2_reg = grad2 + (Lambda/m) * np.hstack((np.zeros((Theta2.shape[0],1)),Theta2[:,1:]))\n",
    "    \n",
    "    return cost, grad1, grad2,reg_J, grad1_reg,grad2_reg\n"
   ]
  },
  {
   "cell_type": "code",
   "execution_count": 14,
   "metadata": {},
   "outputs": [],
   "source": [
    "def gradientDescentnn(X,y,initial_nn_params,alpha,num_iters,Lambda,input_layer_size, hidden_layer_size, num_labels):\n",
    "\n",
    "    Theta1 = initial_nn_params[:((input_layer_size+1) * hidden_layer_size)].reshape(hidden_layer_size,input_layer_size+1)\n",
    "    Theta2 = initial_nn_params[((input_layer_size +1)* hidden_layer_size ):].reshape(num_labels,hidden_layer_size+1)\n",
    "    \n",
    "    m=len(y)\n",
    "    J_history =[]\n",
    "    \n",
    "    for i in range(num_iters):\n",
    "        nn_params = np.append(Theta1.flatten(),Theta2.flatten())\n",
    "        cost, grad1, grad2 = nnCostFunction(nn_params,input_layer_size, hidden_layer_size, num_labels,X, y,Lambda)[3:]\n",
    "        Theta1 = Theta1 - (alpha * grad1)\n",
    "        Theta2 = Theta2 - (alpha * grad2)\n",
    "        J_history.append(cost)\n",
    "        print(\"Cost function at iteration \" ,i+1 , \"is \" ,J_history[-1])\n",
    "    \n",
    "    nn_paramsFinal = np.append(Theta1.flatten(),Theta2.flatten())\n",
    "    return nn_paramsFinal , J_history"
   ]
  },
  {
   "cell_type": "code",
   "execution_count": 24,
   "metadata": {},
   "outputs": [],
   "source": [
    "# initialize the parameters\n",
    "initial_Theta1 = randInitializeWeights(input_layer_size, hidden_layer_size)\n",
    "initial_Theta2 = randInitializeWeights(hidden_layer_size, num_labels)\n",
    "nn_params = np.append(initial_Theta1.flatten(),initial_Theta2.flatten())"
   ]
  },
  {
   "cell_type": "code",
   "execution_count": 25,
   "metadata": {},
   "outputs": [
    {
     "name": "stdout",
     "output_type": "stream",
     "text": [
      "Cost function at iteration  1 is  15.263227950657445\n",
      "Cost function at iteration  2 is  9.221725866498506\n",
      "Cost function at iteration  3 is  7.50929879294876\n",
      "Cost function at iteration  4 is  5.955940206777042\n",
      "Cost function at iteration  5 is  4.728695507020319\n",
      "Cost function at iteration  6 is  3.856351894454332\n",
      "Cost function at iteration  7 is  3.4227144979626525\n",
      "Cost function at iteration  8 is  3.2709226382728414\n",
      "Cost function at iteration  9 is  3.1497105318930085\n",
      "Cost function at iteration  10 is  3.0389942449552385\n",
      "Cost function at iteration  11 is  2.937767187232372\n",
      "Cost function at iteration  12 is  2.845244072154455\n",
      "Cost function at iteration  13 is  2.7606589617513784\n",
      "Cost function at iteration  14 is  2.683277720858859\n",
      "Cost function at iteration  15 is  2.612384956539412\n",
      "Cost function at iteration  16 is  2.547314321539101\n",
      "Cost function at iteration  17 is  2.4874513348795286\n",
      "Cost function at iteration  18 is  2.432242617263984\n",
      "Cost function at iteration  19 is  2.381193868862026\n",
      "Cost function at iteration  20 is  2.3338680039423543\n",
      "Cost function at iteration  21 is  2.2898798980638846\n",
      "Cost function at iteration  22 is  2.248891214847302\n",
      "Cost function at iteration  23 is  2.2106048033820835\n",
      "Cost function at iteration  24 is  2.1747595596911617\n",
      "Cost function at iteration  25 is  2.1411256972461925\n",
      "Cost function at iteration  26 is  2.1095005826979567\n",
      "Cost function at iteration  27 is  2.079705093981442\n",
      "Cost function at iteration  28 is  2.051580476618298\n",
      "Cost function at iteration  29 is  2.0249856412237506\n",
      "Cost function at iteration  30 is  1.9997948481080245\n",
      "Cost function at iteration  31 is  1.9758957253150413\n",
      "Cost function at iteration  32 is  1.9531875717498832\n",
      "Cost function at iteration  33 is  1.9315799028133003\n",
      "Cost function at iteration  34 is  1.9109912017567772\n",
      "Cost function at iteration  35 is  1.8913478454135766\n",
      "Cost function at iteration  36 is  1.8725831777531068\n",
      "Cost function at iteration  37 is  1.8546367088848643\n",
      "Cost function at iteration  38 is  1.8374534206898134\n",
      "Cost function at iteration  39 is  1.8209831632619737\n",
      "Cost function at iteration  40 is  1.8051801288627476\n",
      "Cost function at iteration  41 is  1.790002392198227\n",
      "Cost function at iteration  42 is  1.7754115075897183\n",
      "Cost function at iteration  43 is  1.761372155074895\n",
      "Cost function at iteration  44 is  1.7478518287029545\n",
      "Cost function at iteration  45 is  1.7348205613098\n",
      "Cost function at iteration  46 is  1.7222506809160294\n",
      "Cost function at iteration  47 is  1.7101165946077141\n",
      "Cost function at iteration  48 is  1.6983945963627431\n",
      "Cost function at iteration  49 is  1.687062695792414\n",
      "Cost function at iteration  50 is  1.6761004651960414\n"
     ]
    }
   ],
   "source": [
    "nnTheta, nnJ_history = gradientDescentnn(X,y,nn_params,0.15,50,1,input_layer_size, hidden_layer_size, num_labels)\n",
    "Theta1 = nnTheta[:((input_layer_size+1) * hidden_layer_size)].reshape(hidden_layer_size,input_layer_size+1)\n",
    "Theta2 = nnTheta[((input_layer_size +1)* hidden_layer_size ):].reshape(num_labels,hidden_layer_size+1)"
   ]
  },
  {
   "cell_type": "code",
   "execution_count": 26,
   "metadata": {},
   "outputs": [],
   "source": [
    "def predict(Theta1, Theta2, X):\n",
    "\n",
    "    m= X.shape[0]\n",
    "    X = np.hstack((np.ones((m,1)),X))\n",
    "    \n",
    "    a1 = sigmoid(X @ Theta1.T)\n",
    "    a1 = np.hstack((np.ones((m,1)), a1)) \n",
    "    a2 = sigmoid(a1 @ Theta2.T) \n",
    "    \n",
    "    return np.argmax(a2,axis=1)+1"
   ]
  },
  {
   "cell_type": "code",
   "execution_count": 28,
   "metadata": {},
   "outputs": [],
   "source": [
    "df_test = pd.read_csv(r'C:\\Users\\Legion\\Desktop\\kaggle_mnist\\test.csv')"
   ]
  },
  {
   "cell_type": "code",
   "execution_count": 29,
   "metadata": {},
   "outputs": [],
   "source": [
    "df_test = df_test/255"
   ]
  },
  {
   "cell_type": "code",
   "execution_count": 30,
   "metadata": {},
   "outputs": [],
   "source": [
    "predictions = predict(Theta1, Theta2, df_test)"
   ]
  },
  {
   "cell_type": "code",
   "execution_count": 31,
   "metadata": {},
   "outputs": [],
   "source": [
    "predictions = np.where(predictions==10,0,predictions)"
   ]
  },
  {
   "cell_type": "code",
   "execution_count": 32,
   "metadata": {},
   "outputs": [],
   "source": [
    "np.savetxt(\"nn_predictions.csv\", predictions, delimiter=\",\")"
   ]
  },
  {
   "cell_type": "code",
   "execution_count": null,
   "metadata": {},
   "outputs": [],
   "source": [
    "# The out of sample accuracy was of 68%"
   ]
  }
 ],
 "metadata": {
  "kernelspec": {
   "display_name": "Python 3",
   "language": "python",
   "name": "python3"
  },
  "language_info": {
   "codemirror_mode": {
    "name": "ipython",
    "version": 3
   },
   "file_extension": ".py",
   "mimetype": "text/x-python",
   "name": "python",
   "nbconvert_exporter": "python",
   "pygments_lexer": "ipython3",
   "version": "3.7.6"
  }
 },
 "nbformat": 4,
 "nbformat_minor": 4
}
